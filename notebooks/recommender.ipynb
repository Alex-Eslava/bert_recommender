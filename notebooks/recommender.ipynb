{
 "cells": [
  {
   "cell_type": "code",
   "execution_count": 52,
   "id": "28a4ec63",
   "metadata": {},
   "outputs": [],
   "source": [
    "import pandas as pd\n",
    "import numpy as np\n",
    "import os\n",
    "import sys\n",
    "import torch \n",
    "\n",
    "module_path = os.path.abspath(os.path.join('..', 'src'))\n",
    "if module_path not in sys.path:\n",
    "    sys.path.append(module_path)\n",
    "\n",
    "\n",
    "from models import Recommender\n",
    "from data_processing import get_context, pad_list, map_column, MASK, PAD"
   ]
  },
  {
   "cell_type": "code",
   "execution_count": 53,
   "id": "f8188968",
   "metadata": {},
   "outputs": [],
   "source": [
    "data_path = \"/home/alex/Documents/movie_recommender/data/ml-1m/ratings.dat\"\n",
    "movies_path = \"/home/alex/Documents/movie_recommender/data/ml-1m/movies.dat\"\n",
    "model_path = \"/home/alex/Documents/movie_recommender/models/recommender.ckpt\""
   ]
  },
  {
   "cell_type": "code",
   "execution_count": 54,
   "id": "4161c6ed",
   "metadata": {},
   "outputs": [
    {
     "name": "stderr",
     "output_type": "stream",
     "text": [
      "/tmp/ipykernel_101089/1429028976.py:3: ParserWarning: Falling back to the 'python' engine because the 'c' engine does not support regex separators (separators > 1 char and different from '\\s+' are interpreted as regex); you can avoid this warning by specifying engine='python'.\n",
      "  data = pd.read_csv(data_path,\n"
     ]
    },
    {
     "data": {
      "text/html": [
       "<div>\n",
       "<style scoped>\n",
       "    .dataframe tbody tr th:only-of-type {\n",
       "        vertical-align: middle;\n",
       "    }\n",
       "\n",
       "    .dataframe tbody tr th {\n",
       "        vertical-align: top;\n",
       "    }\n",
       "\n",
       "    .dataframe thead th {\n",
       "        text-align: right;\n",
       "    }\n",
       "</style>\n",
       "<table border=\"1\" class=\"dataframe\">\n",
       "  <thead>\n",
       "    <tr style=\"text-align: right;\">\n",
       "      <th></th>\n",
       "      <th>userId</th>\n",
       "      <th>movieId</th>\n",
       "      <th>rating</th>\n",
       "      <th>timestamp</th>\n",
       "    </tr>\n",
       "  </thead>\n",
       "  <tbody>\n",
       "    <tr>\n",
       "      <th>0</th>\n",
       "      <td>1</td>\n",
       "      <td>1193</td>\n",
       "      <td>5</td>\n",
       "      <td>978300760</td>\n",
       "    </tr>\n",
       "    <tr>\n",
       "      <th>1</th>\n",
       "      <td>1</td>\n",
       "      <td>661</td>\n",
       "      <td>3</td>\n",
       "      <td>978302109</td>\n",
       "    </tr>\n",
       "    <tr>\n",
       "      <th>2</th>\n",
       "      <td>1</td>\n",
       "      <td>914</td>\n",
       "      <td>3</td>\n",
       "      <td>978301968</td>\n",
       "    </tr>\n",
       "  </tbody>\n",
       "</table>\n",
       "</div>"
      ],
      "text/plain": [
       "   userId  movieId  rating  timestamp\n",
       "0       1     1193       5  978300760\n",
       "1       1      661       3  978302109\n",
       "2       1      914       3  978301968"
      ]
     },
     "execution_count": 54,
     "metadata": {},
     "output_type": "execute_result"
    }
   ],
   "source": [
    "delimiter = \"::\"\n",
    "column_names = [\"userId\",\"movieId\",\"rating\",\"timestamp\"]\n",
    "data = pd.read_csv(data_path, \n",
    "                   delimiter=delimiter, \n",
    "                   header=None, \n",
    "                   names=column_names)\n",
    "data.head(3)"
   ]
  },
  {
   "cell_type": "code",
   "execution_count": 55,
   "id": "894f4b1a",
   "metadata": {},
   "outputs": [
    {
     "data": {
      "text/html": [
       "<div>\n",
       "<style scoped>\n",
       "    .dataframe tbody tr th:only-of-type {\n",
       "        vertical-align: middle;\n",
       "    }\n",
       "\n",
       "    .dataframe tbody tr th {\n",
       "        vertical-align: top;\n",
       "    }\n",
       "\n",
       "    .dataframe thead th {\n",
       "        text-align: right;\n",
       "    }\n",
       "</style>\n",
       "<table border=\"1\" class=\"dataframe\">\n",
       "  <thead>\n",
       "    <tr style=\"text-align: right;\">\n",
       "      <th></th>\n",
       "      <th>movieId</th>\n",
       "      <th>title</th>\n",
       "      <th>categories</th>\n",
       "    </tr>\n",
       "  </thead>\n",
       "  <tbody>\n",
       "    <tr>\n",
       "      <th>0</th>\n",
       "      <td>1</td>\n",
       "      <td>Toy Story (1995)</td>\n",
       "      <td>Animation|Children's|Comedy</td>\n",
       "    </tr>\n",
       "    <tr>\n",
       "      <th>1</th>\n",
       "      <td>2</td>\n",
       "      <td>Jumanji (1995)</td>\n",
       "      <td>Adventure|Children's|Fantasy</td>\n",
       "    </tr>\n",
       "    <tr>\n",
       "      <th>2</th>\n",
       "      <td>3</td>\n",
       "      <td>Grumpier Old Men (1995)</td>\n",
       "      <td>Comedy|Romance</td>\n",
       "    </tr>\n",
       "    <tr>\n",
       "      <th>3</th>\n",
       "      <td>4</td>\n",
       "      <td>Waiting to Exhale (1995)</td>\n",
       "      <td>Comedy|Drama</td>\n",
       "    </tr>\n",
       "    <tr>\n",
       "      <th>4</th>\n",
       "      <td>5</td>\n",
       "      <td>Father of the Bride Part II (1995)</td>\n",
       "      <td>Comedy</td>\n",
       "    </tr>\n",
       "    <tr>\n",
       "      <th>5</th>\n",
       "      <td>6</td>\n",
       "      <td>Heat (1995)</td>\n",
       "      <td>Action|Crime|Thriller</td>\n",
       "    </tr>\n",
       "    <tr>\n",
       "      <th>6</th>\n",
       "      <td>7</td>\n",
       "      <td>Sabrina (1995)</td>\n",
       "      <td>Comedy|Romance</td>\n",
       "    </tr>\n",
       "    <tr>\n",
       "      <th>7</th>\n",
       "      <td>8</td>\n",
       "      <td>Tom and Huck (1995)</td>\n",
       "      <td>Adventure|Children's</td>\n",
       "    </tr>\n",
       "    <tr>\n",
       "      <th>8</th>\n",
       "      <td>9</td>\n",
       "      <td>Sudden Death (1995)</td>\n",
       "      <td>Action</td>\n",
       "    </tr>\n",
       "    <tr>\n",
       "      <th>9</th>\n",
       "      <td>10</td>\n",
       "      <td>GoldenEye (1995)</td>\n",
       "      <td>Action|Adventure|Thriller</td>\n",
       "    </tr>\n",
       "  </tbody>\n",
       "</table>\n",
       "</div>"
      ],
      "text/plain": [
       "   movieId                               title                    categories\n",
       "0        1                    Toy Story (1995)   Animation|Children's|Comedy\n",
       "1        2                      Jumanji (1995)  Adventure|Children's|Fantasy\n",
       "2        3             Grumpier Old Men (1995)                Comedy|Romance\n",
       "3        4            Waiting to Exhale (1995)                  Comedy|Drama\n",
       "4        5  Father of the Bride Part II (1995)                        Comedy\n",
       "5        6                         Heat (1995)         Action|Crime|Thriller\n",
       "6        7                      Sabrina (1995)                Comedy|Romance\n",
       "7        8                 Tom and Huck (1995)          Adventure|Children's\n",
       "8        9                 Sudden Death (1995)                        Action\n",
       "9       10                    GoldenEye (1995)     Action|Adventure|Thriller"
      ]
     },
     "execution_count": 55,
     "metadata": {},
     "output_type": "execute_result"
    }
   ],
   "source": [
    "delimiter = \"::\"\n",
    "column_names = [\"movieId\",\"title\",\"categories\"]\n",
    "movies = pd.read_csv(movies_path, \n",
    "                   delimiter=delimiter, \n",
    "                   header=None, \n",
    "                   names=column_names,\n",
    "                   encoding='ISO-8859-1', \n",
    "                   engine='python')\n",
    "\n",
    "movies.head(10)"
   ]
  },
  {
   "cell_type": "code",
   "execution_count": 56,
   "id": "e8592213",
   "metadata": {},
   "outputs": [],
   "source": [
    "data, mapping, inverse_mapping = map_column(data, col_name=\"movieId\")\n",
    "grp_by_train = data.groupby(by=\"userId\")"
   ]
  },
  {
   "cell_type": "code",
   "execution_count": 57,
   "id": "4b6f2279",
   "metadata": {},
   "outputs": [
    {
     "data": {
      "text/plain": [
       "<All keys matched successfully>"
      ]
     },
     "execution_count": 57,
     "metadata": {},
     "output_type": "execute_result"
    }
   ],
   "source": [
    "model = Recommender(\n",
    "        vocab_size=len(mapping) + 2,\n",
    "        lr=1e-4,\n",
    "        dropout=0.3,\n",
    "    )\n",
    "model.eval()\n",
    "model.load_state_dict(torch.load(model_path)[\"state_dict\"])"
   ]
  },
  {
   "cell_type": "code",
   "execution_count": 58,
   "id": "ccb64b06",
   "metadata": {},
   "outputs": [],
   "source": [
    "movie_to_idx = {a: mapping[b] for a, b in zip(movies.title.tolist(), movies.movieId.tolist()) if b in mapping}\n",
    "idx_to_movie = {v: k for k, v in movie_to_idx.items()}"
   ]
  },
  {
   "cell_type": "code",
   "execution_count": 59,
   "id": "21447198",
   "metadata": {},
   "outputs": [],
   "source": [
    "def predict(list_movies, model, movie_to_idx, idx_to_movie):\n",
    "    ids = [PAD] * (120 - len(list_movies) - 1) + [movie_to_idx[a] for a in list_movies] + [MASK]\n",
    "    src = torch.tensor(ids, dtype=torch.long).unsqueeze(0)\n",
    "    with torch.no_grad():\n",
    "        prediction = model(src)\n",
    "    masked_pred = prediction[0, -1].numpy()\n",
    "    sorted_predicted_ids = np.argsort(masked_pred).tolist()[::-1]\n",
    "    sorted_predicted_ids = [a for a in sorted_predicted_ids if a not in ids]\n",
    "    return [idx_to_movie[a] for a in sorted_predicted_ids[:30] if a in idx_to_movie]"
   ]
  },
  {
   "cell_type": "code",
   "execution_count": 60,
   "id": "526a6edf",
   "metadata": {},
   "outputs": [
    {
     "data": {
      "text/plain": [
       "['American Beauty (1999)',\n",
       " 'Star Wars: Episode IV - A New Hope (1977)',\n",
       " 'Silence of the Lambs, The (1991)',\n",
       " 'Being John Malkovich (1999)',\n",
       " 'Sixth Sense, The (1999)',\n",
       " 'Shakespeare in Love (1998)',\n",
       " 'Matrix, The (1999)',\n",
       " 'Shawshank Redemption, The (1994)',\n",
       " 'Godfather, The (1972)',\n",
       " 'Fargo (1996)',\n",
       " \"Schindler's List (1993)\",\n",
       " 'Raiders of the Lost Ark (1981)',\n",
       " 'Saving Private Ryan (1998)',\n",
       " 'Galaxy Quest (1999)',\n",
       " 'Chicken Run (2000)',\n",
       " 'High Fidelity (2000)',\n",
       " 'L.A. Confidential (1997)',\n",
       " 'Gladiator (2000)',\n",
       " 'Braveheart (1995)',\n",
       " 'Pulp Fiction (1994)',\n",
       " 'Fight Club (1999)',\n",
       " 'X-Men (2000)',\n",
       " 'Princess Bride, The (1987)',\n",
       " 'Austin Powers: The Spy Who Shagged Me (1999)',\n",
       " 'Jurassic Park (1993)',\n",
       " 'Erin Brockovich (2000)',\n",
       " 'Star Wars: Episode VI - Return of the Jedi (1983)',\n",
       " 'Airplane! (1980)',\n",
       " 'Election (1999)',\n",
       " 'Babe (1995)']"
      ]
     },
     "execution_count": 60,
     "metadata": {},
     "output_type": "execute_result"
    }
   ],
   "source": [
    "movies_list = [\"Star Wars: Episode V - The Empire Strikes Back (1980)\",\n",
    "               \"Rambo: First Blood Part II (1985)\",\n",
    "               \"Lethal Weapon 2 (1989)\",\n",
    "               \"Godfather: Part II, The (1974)\",\n",
    "               \"Terminator 2: Judgment Day (1991)\"]\n",
    "\n",
    "top_movie = predict(movies_list, model, movie_to_idx, idx_to_movie)\n",
    "top_movie"
   ]
  },
  {
   "cell_type": "code",
   "execution_count": null,
   "id": "fbaaa0ed",
   "metadata": {},
   "outputs": [],
   "source": []
  }
 ],
 "metadata": {
  "kernelspec": {
   "display_name": "Python 3 (ipykernel)",
   "language": "python",
   "name": "python3"
  },
  "language_info": {
   "codemirror_mode": {
    "name": "ipython",
    "version": 3
   },
   "file_extension": ".py",
   "mimetype": "text/x-python",
   "name": "python",
   "nbconvert_exporter": "python",
   "pygments_lexer": "ipython3",
   "version": "3.11.3"
  }
 },
 "nbformat": 4,
 "nbformat_minor": 5
}
